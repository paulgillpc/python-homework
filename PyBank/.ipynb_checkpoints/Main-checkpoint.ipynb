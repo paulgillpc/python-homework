{
 "cells": [
  {
   "cell_type": "code",
   "execution_count": 103,
   "id": "883cff44",
   "metadata": {
    "tags": []
   },
   "outputs": [],
   "source": [
    "# import the relevant libraries\n",
    "from pathlib import Path\n",
    "import csv"
   ]
  },
  {
   "cell_type": "code",
   "execution_count": 104,
   "id": "138f61c4",
   "metadata": {
    "tags": []
   },
   "outputs": [],
   "source": [
    "# set the csv file path\n",
    "csv_py = Path(r'C:\\Users\\paulg\\desktop\\gwu-virt-fin-pt-04-2021-u-c\\02-Homework\\02-Python\\Instructions\\PyBank\\Resources\\budget_data.csv')"
   ]
  },
  {
   "cell_type": "code",
   "execution_count": 105,
   "id": "16df2836",
   "metadata": {},
   "outputs": [],
   "source": [
    "# set up variables to hold the lists (aka values) of the specific data\n",
    "months = []\n",
    "profit_loss = []\n",
    "monthly_differences = []\n",
    "count_months = 0\n",
    "net_pnl = 0\n",
    "initial_pnl = 0\n",
    "total_differences_pnl = 0"
   ]
  },
  {
   "cell_type": "code",
   "execution_count": 106,
   "id": "9ab16106",
   "metadata": {
    "tags": []
   },
   "outputs": [
    {
     "name": "stdout",
     "output_type": "stream",
     "text": [
      "<class '_io.TextIOWrapper'>\n",
      "<class '_csv.reader'>\n"
     ]
    }
   ],
   "source": [
    "# import in the csv data so that we can begin to manipulate it\n",
    "with open(csv_py, \"r\") as csvfile:\n",
    "# make sure that the csv file is the correct type (should be an object)\n",
    "    print(type(csvfile))\n",
    "# pass in the csv file to the csv reader() function\n",
    "# (with “,” as the delimiter/separator) and return the csv reader object\n",
    "    csvreader = csv.reader(csvfile, delimiter=\",\")\n",
    "    csv_header = next(csvreader)\n",
    "# print the data type of the csv reader\n",
    "    print(type(csvreader))\n",
    "# read each row of data after the header\n",
    "    for row in csvreader:\n",
    "# Set the ‘count_months’ variable\n",
    "        count_months = count_months + 1\n",
    "# Fill in the ‘months’, ‘profit_loss’ lists\n",
    "        months.append(row[0])\n",
    "        profit_loss.append(row[1])\n",
    "        \n",
    "# Calculate the net total amount of Profit/Losses over the entire period\n",
    "        net_pnl = net_pnl + int(row[1])\n",
    "\n",
    "# Calculate the average of the changes in Profit/Losses over the entire period\n",
    "        final_pnl = int(row[1])\n",
    "        monthly_differences_pnl = final_pnl - initial_pnl\n",
    "        monthly_differences.append(monthly_differences_pnl)\n",
    "        total_differences_pnl = total_differences_pnl + monthly_differences_pnl\n",
    "        initial_pnl = final_pnl\n",
    "        average_change_pnl = (total_differences_pnl/count_months)\n",
    "\n",
    "# Determine the greatest increase and decrease in profits (date and amount) over the entire period\n",
    "        greatest_increase_pnl = max(monthly_differences)\n",
    "        greatest_decrease_pnl = min(monthly_differences)\n",
    "        greatest_increase_month = months[monthly_differences.index(greatest_increase_pnl)]\n",
    "        greatest_decrease_month = months[monthly_differences.index(greatest_decrease_pnl)]"
   ]
  },
  {
   "cell_type": "code",
   "execution_count": 107,
   "id": "36ca88c6",
   "metadata": {},
   "outputs": [
    {
     "name": "stdout",
     "output_type": "stream",
     "text": [
      "--------------------\n",
      "Financial Analysis\n",
      "There are 86 months included in the dataset.\n",
      "The total Profit/Loss over the entire period was $38382578.\n",
      "The average of the changes in Profit/Loss over the entire period was 7803.476744186047.\n",
      "The greates increase in profits over the entire period was in Feb-2012 for $1926159.\n",
      "The greatest decrease in losses over the entire period was in Sep-2013 for $-2196167.\n",
      "--------------------\n"
     ]
    }
   ],
   "source": [
    "print(str(\"--------------------\"))\n",
    "print(str(\"Financial Analysis\"))\n",
    "# Total number of months included in the csv\n",
    "print(f\"There are {count_months} months included in the dataset.\")\n",
    "# The net total amount of profit and losses over the entire period\n",
    "print(f'The total Profit/Loss over the entire period was ${net_pnl}.')\n",
    "# The average changes in P/L\n",
    "print(f'The average of the changes in Profit/Loss over the entire period was {average_change_pnl}.')\n",
    "# The greatest increase in profits (date and amount) over the entire period\n",
    "print(f'The greates increase in profits over the entire period was in {greatest_increase_month} for ${greatest_increase_pnl}.')\n",
    "# The greatest decrease in losses (date and amount) over the entire period\n",
    "print(f'The greatest decrease in losses over the entire period was in {greatest_decrease_month} for ${greatest_decrease_pnl}.')\n",
    "print(str(\"--------------------\"))"
   ]
  },
  {
   "cell_type": "code",
   "execution_count": null,
   "id": "36eeecd0",
   "metadata": {},
   "outputs": [],
   "source": []
  }
 ],
 "metadata": {
  "kernelspec": {
   "display_name": "Python 3",
   "language": "python",
   "name": "python3"
  },
  "language_info": {
   "codemirror_mode": {
    "name": "ipython",
    "version": 3
   },
   "file_extension": ".py",
   "mimetype": "text/x-python",
   "name": "python",
   "nbconvert_exporter": "python",
   "pygments_lexer": "ipython3",
   "version": "3.8.5"
  }
 },
 "nbformat": 4,
 "nbformat_minor": 5
}
